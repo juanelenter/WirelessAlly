{
 "cells": [
  {
   "cell_type": "code",
   "execution_count": 3,
   "id": "a4a35873",
   "metadata": {},
   "outputs": [],
   "source": [
    "import os\n",
    "import random\n",
    "import numpy as np\n",
    "import torch\n",
    "from collections import defaultdict\n",
    "from tqdm import tqdm\n",
    "\n",
    "from data_gen import create_data\n",
    "from gnn import GNN\n",
    "from utils import calc_rates\n",
    "from numpy import linalg as LA\n",
    "from torch_geometric.data import Data, Dataset"
   ]
  },
  {
   "cell_type": "code",
   "execution_count": 4,
   "id": "d3c8cb4c",
   "metadata": {},
   "outputs": [],
   "source": [
    "# set the parameters\n",
    "random_seed = 1357531 # random seed\n",
    "m = 6 # number of transmitters\n",
    "n = m # number of receivers (equal to number of transmitters in this paper)\n",
    "T = 100 # number of time slots for each configuration\n",
    "density_mode = 'var_density' # density mode (either 'var_density' or 'fixed_density')\n",
    "num_samples = {'train': 256, 'test': 128, 'pool': 256} # number of train/test samples\n",
    "BW = 10e6 # bandwidth (Hz)\n",
    "N = -174 - 30 + 10 * np.log10(BW) # Noise PSD = -174 dBm/Hz\n",
    "noise_var = np.power(10, N / 10) # noise variance\n",
    "P_max = np.power(10, (10 - 30) / 10) # maximum transmit power = 10 dBm\n",
    "batch_size = 128 # batch size\n",
    "num_features_list = [1] + [64] * 2 # number of GNN features in different layers\n",
    "num_epochs = 100 # number of training epochs\n",
    "f_min = .75 # minimum-rate constraint\n",
    "lr_main = 1e-1 / m # learning rate for primal model parameters\n",
    "lr_dual = 2 # learning rate for dual variables\n",
    "T_0 = 5 # size of the iteration window for averaging recent rates for dual variable updates\n",
    "\n",
    "# set network area side length based on the density mode\n",
    "if density_mode == 'var_density':\n",
    "    R = 500\n",
    "elif density_mode == 'fixed_density':\n",
    "    R = 1000 * np.sqrt(m / 20)\n",
    "else:\n",
    "    raise Exception\n",
    "\n",
    "# set the random seed\n",
    "os.environ['PYTHONHASHSEED']=str(random_seed)\n",
    "random.seed(random_seed)\n",
    "np.random.seed(random_seed)\n",
    "torch.manual_seed(random_seed)\n",
    "\n",
    "# create folders to save the data, results, and final model\n",
    "os.makedirs('./data', exist_ok=True)\n",
    "os.makedirs('./results', exist_ok=True)\n",
    "os.makedirs('./models', exist_ok=True)"
   ]
  },
  {
   "cell_type": "code",
   "execution_count": 5,
   "id": "0972d4fb",
   "metadata": {},
   "outputs": [
    {
     "name": "stdout",
     "output_type": "stream",
     "text": [
      "Generating the training and evaluation data ...\n"
     ]
    },
    {
     "name": "stderr",
     "output_type": "stream",
     "text": [
      "100%|███████████████████████████████████████████████████████████████████████████████████████████████████████████████████████████████████████████████████████████████████████████████████████████| 256/256 [00:01<00:00, 142.68it/s]\n",
      "100%|███████████████████████████████████████████████████████████████████████████████████████████████████████████████████████████████████████████████████████████████████████████████████████████| 128/128 [00:00<00:00, 140.46it/s]\n",
      "100%|███████████████████████████████████████████████████████████████████████████████████████████████████████████████████████████████████████████████████████████████████████████████████████████| 256/256 [00:01<00:00, 141.30it/s]\n",
      "100%|████████████████████████████████████████████████████████████████████████████████████████████████████████████████████████████████████████████████████████████████████████████████████████████| 256/256 [00:08<00:00, 29.69it/s]\n",
      "100%|████████████████████████████████████████████████████████████████████████████████████████████████████████████████████████████████████████████████████████████████████████████████████████████| 128/128 [00:04<00:00, 29.59it/s]\n",
      "100%|████████████████████████████████████████████████████████████████████████████████████████████████████████████████████████████████████████████████████████████████████████████████████████████| 256/256 [00:08<00:00, 29.62it/s]\n"
     ]
    },
    {
     "name": "stdout",
     "output_type": "stream",
     "text": [
      "ITLinQ\n"
     ]
    },
    {
     "name": "stderr",
     "output_type": "stream",
     "text": [
      "100%|████████████████████████████████████████████████████████████████████████████████████████████████████████████████████████████████████████████████████████████████████████████████████████████| 128/128 [00:01<00:00, 80.80it/s]\n"
     ]
    },
    {
     "name": "stdout",
     "output_type": "stream",
     "text": [
      "FR\n"
     ]
    },
    {
     "name": "stderr",
     "output_type": "stream",
     "text": [
      "100%|███████████████████████████████████████████████████████████████████████████████████████████████████████████████████████████████████████████████████████████████████████████████████████████| 128/128 [00:01<00:00, 104.00it/s]\n"
     ]
    }
   ],
   "source": [
    "# create a string indicating the main experiment (hyper)parameters\n",
    "experiment_name = 'm_{}_T_{}_fmin_{}_train_{}_test_{}_pool_{}_mode_{}'.format(m,\n",
    "                                                                      T,\n",
    "                                                                      f_min,\n",
    "                                                                      num_samples['train'],\n",
    "                                                                      num_samples['test'],\n",
    "                                                                      num_samples['pool'],\n",
    "                                                                      density_mode\n",
    "                                                                     )\n",
    "\n",
    "# create PyTorch Geometric datasets and dataloaders\n",
    "print('Generating the training and evaluation data ...')\n",
    "path = './data/{}.json'.format(experiment_name)\n",
    "loader, baseline_rates = create_data(m, n, T, R, path, num_samples, batch_size, P_max, noise_var)\n",
    "\n",
    "# set the computation device and create the model using a GNN parameterization\n",
    "device = torch.device('cuda:0' if torch.cuda.is_available() else 'cpu')\n",
    "model = GNN(num_features_list, P_max).to(device)\n"
   ]
  },
  {
   "cell_type": "code",
   "execution_count": null,
   "id": "aa98c719",
   "metadata": {},
   "outputs": [],
   "source": []
  },
  {
   "cell_type": "code",
   "execution_count": null,
   "id": "51d1d5a3",
   "metadata": {},
   "outputs": [],
   "source": []
  },
  {
   "cell_type": "code",
   "execution_count": null,
   "id": "1adbb471",
   "metadata": {},
   "outputs": [],
   "source": []
  },
  {
   "cell_type": "code",
   "execution_count": null,
   "id": "9578cda9",
   "metadata": {},
   "outputs": [],
   "source": []
  }
 ],
 "metadata": {
  "kernelspec": {
   "display_name": "Python 3 (ipykernel)",
   "language": "python",
   "name": "python3"
  },
  "language_info": {
   "codemirror_mode": {
    "name": "ipython",
    "version": 3
   },
   "file_extension": ".py",
   "mimetype": "text/x-python",
   "name": "python",
   "nbconvert_exporter": "python",
   "pygments_lexer": "ipython3",
   "version": "3.10.4"
  }
 },
 "nbformat": 4,
 "nbformat_minor": 5
}
